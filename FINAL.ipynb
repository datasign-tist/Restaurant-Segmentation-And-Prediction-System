{
 "cells": [
  {
   "cell_type": "code",
   "execution_count": 54,
   "id": "4efd7c63",
   "metadata": {},
   "outputs": [
    {
     "name": "stdout",
     "output_type": "stream",
     "text": [
      "3.7.10\n"
     ]
    }
   ],
   "source": [
    "from platform import python_version\n",
    "print(python_version())"
   ]
  },
  {
   "cell_type": "code",
   "execution_count": 71,
   "id": "07694fc4",
   "metadata": {},
   "outputs": [],
   "source": [
    "import pickle\n",
    "import pandas as pd\n",
    "import numpy as np\n",
    "import numpy as np\n",
    "from sklearn.metrics import accuracy_score\n",
    "from sklearn.metrics import precision_score\n",
    "from sklearn.metrics import recall_score\n",
    "from sklearn.metrics import f1_score"
   ]
  },
  {
   "cell_type": "code",
   "execution_count": 66,
   "id": "70281b4c",
   "metadata": {},
   "outputs": [],
   "source": [
    "test=pd.read_csv('test_data.csv')\n",
    "indexing=pd.read_csv('indexing.csv')"
   ]
  },
  {
   "cell_type": "code",
   "execution_count": 67,
   "id": "362b828a",
   "metadata": {},
   "outputs": [],
   "source": [
    "def function_1(data):\n",
    "    cus_loc_ven=' X '.join([str(i) for i in data])\n",
    "    \n",
    "    ven_predict=indexing.index[indexing['CID X LOC_NUM X VENDOR'] == cus_loc_ven ].tolist()[0]\n",
    "    \n",
    "    X_test=pd.DataFrame(np.array(test.iloc[ven_predict, : ].tolist()).reshape(1,57))\n",
    "    \n",
    "    X_test=X_test.drop(X_test.iloc[:, 48],axis = 1)\n",
    "    \n",
    "    xgboost=pickle.load(open('model.pkl', 'rb'))\n",
    "    \n",
    "    prediction=xgboost.predict(X_test)[0]\n",
    "    \n",
    "    return prediction  "
   ]
  },
  {
   "cell_type": "code",
   "execution_count": 72,
   "id": "ef61b363",
   "metadata": {},
   "outputs": [],
   "source": [
    "def function_2(data,true):\n",
    "    xgboost=pickle.load(open('model.pkl', 'rb'))\n",
    "     \n",
    "    predict=xgboost.predict(data)\n",
    "        \n",
    "    prec =precision_score(true, predict)\n",
    "    rec=recall_score(true, predict)\n",
    "\n",
    "    f1_score=(2*prec*rec)/(rec+prec+0.000000000000001)\n",
    "     \n",
    "    return f1_score"
   ]
  }
 ],
 "metadata": {
  "kernelspec": {
   "display_name": "Python 3",
   "language": "python",
   "name": "python3"
  },
  "language_info": {
   "codemirror_mode": {
    "name": "ipython",
    "version": 3
   },
   "file_extension": ".py",
   "mimetype": "text/x-python",
   "name": "python",
   "nbconvert_exporter": "python",
   "pygments_lexer": "ipython3",
   "version": "3.7.10"
  }
 },
 "nbformat": 4,
 "nbformat_minor": 5
}
